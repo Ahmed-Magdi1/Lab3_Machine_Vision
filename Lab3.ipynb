{
  "nbformat": 4,
  "nbformat_minor": 0,
  "metadata": {
    "colab": {
      "provenance": [],
      "authorship_tag": "ABX9TyP4mcwbYOG3uLOEyUE3VcVN",
      "include_colab_link": true
    },
    "kernelspec": {
      "name": "python3",
      "display_name": "Python 3"
    },
    "language_info": {
      "name": "python"
    }
  },
  "cells": [
    {
      "cell_type": "markdown",
      "metadata": {
        "id": "view-in-github",
        "colab_type": "text"
      },
      "source": [
        "<a href=\"https://colab.research.google.com/github/Ahmed-Magdi1/Lab3_Machine_Vision/blob/main/Lab3.ipynb\" target=\"_parent\"><img src=\"https://colab.research.google.com/assets/colab-badge.svg\" alt=\"Open In Colab\"/></a>"
      ]
    },
    {
      "cell_type": "markdown",
      "source": [
        "# Question_2"
      ],
      "metadata": {
        "id": "pEYNAHtVcx7e"
      }
    },
    {
      "cell_type": "markdown",
      "source": [
        "## 1. Use an image you own or have captured (image.jpg)."
      ],
      "metadata": {
        "id": "Z8T7P0cUdClr"
      }
    },
    {
      "cell_type": "code",
      "source": [],
      "metadata": {
        "id": "xBDwX9FudOLf"
      },
      "execution_count": null,
      "outputs": []
    },
    {
      "cell_type": "markdown",
      "source": [
        "## 2. Apply the following transformations to the image and determine the corresponding transformation matrix H for each case:"
      ],
      "metadata": {
        "id": "Ka3nl7cPdPA8"
      }
    },
    {
      "cell_type": "markdown",
      "source": [
        "### a. Translate the image by two different sets of points (𝑥1,𝑦1) and (𝑥2,𝑦2)."
      ],
      "metadata": {
        "id": "T7FKhAmvdXqH"
      }
    },
    {
      "cell_type": "code",
      "source": [],
      "metadata": {
        "id": "hO_eq1cKdeLj"
      },
      "execution_count": null,
      "outputs": []
    },
    {
      "cell_type": "markdown",
      "source": [
        "### b. Rotate the image by two different angles 𝜃1 and 𝜃2."
      ],
      "metadata": {
        "id": "XFx03ltKde79"
      }
    },
    {
      "cell_type": "code",
      "source": [],
      "metadata": {
        "id": "Y3Yg8PASdj3r"
      },
      "execution_count": null,
      "outputs": []
    },
    {
      "cell_type": "markdown",
      "source": [
        "### c. Perform scaling to enlarge (scale up) and reduce (scale down) the image."
      ],
      "metadata": {
        "id": "Iiu3dTMEdl68"
      }
    },
    {
      "cell_type": "code",
      "source": [],
      "metadata": {
        "id": "bcw7qhREduAt"
      },
      "execution_count": null,
      "outputs": []
    },
    {
      "cell_type": "markdown",
      "source": [
        "### d. Apply a projective transformation."
      ],
      "metadata": {
        "id": "NeMU31bddxIj"
      }
    },
    {
      "cell_type": "code",
      "source": [],
      "metadata": {
        "id": "gYJHBxfbd1mI"
      },
      "execution_count": null,
      "outputs": []
    },
    {
      "cell_type": "markdown",
      "source": [
        "### e. Perform a combination of translation and rotation."
      ],
      "metadata": {
        "id": "zT3t2dRCd4GG"
      }
    },
    {
      "cell_type": "code",
      "source": [],
      "metadata": {
        "id": "BlZg5Y5hd81g"
      },
      "execution_count": null,
      "outputs": []
    },
    {
      "cell_type": "markdown",
      "source": [
        "### f. Perform a combination of (a), (b), (c) and (d)."
      ],
      "metadata": {
        "id": "AKbKjFAhd_hT"
      }
    },
    {
      "cell_type": "code",
      "source": [],
      "metadata": {
        "id": "z09bACD-eEOC"
      },
      "execution_count": null,
      "outputs": []
    },
    {
      "cell_type": "markdown",
      "source": [
        "### g. Display the original and transformed images."
      ],
      "metadata": {
        "id": "Qzq29yzfeGJN"
      }
    },
    {
      "cell_type": "code",
      "source": [],
      "metadata": {
        "id": "Sp7LUFEYeKUD"
      },
      "execution_count": null,
      "outputs": []
    },
    {
      "cell_type": "markdown",
      "source": [
        "## 3. Detect key points in the original image and all transformed images using SIFT."
      ],
      "metadata": {
        "id": "dkY-R85NeNwm"
      }
    },
    {
      "cell_type": "code",
      "source": [],
      "metadata": {
        "id": "_9O4nKIReSGW"
      },
      "execution_count": null,
      "outputs": []
    },
    {
      "cell_type": "markdown",
      "source": [
        "## 4. Match the SIFT descriptors using Euclidean distance."
      ],
      "metadata": {
        "id": "Yqx-A7OoeSXu"
      }
    },
    {
      "cell_type": "code",
      "source": [],
      "metadata": {
        "id": "toSLOkraeWI4"
      },
      "execution_count": null,
      "outputs": []
    },
    {
      "cell_type": "markdown",
      "source": [
        "## 5. Visualize the matched points between the two images."
      ],
      "metadata": {
        "id": "GXAztRQUeXvU"
      }
    },
    {
      "cell_type": "code",
      "source": [],
      "metadata": {
        "id": "mAGn5t6XecW3"
      },
      "execution_count": null,
      "outputs": []
    },
    {
      "cell_type": "markdown",
      "source": [
        "## 6. Compute the homography matrix H between the original image and each transformed image based on the matched key points."
      ],
      "metadata": {
        "id": "scCyczO4ecy_"
      }
    },
    {
      "cell_type": "code",
      "source": [],
      "metadata": {
        "id": "62rqFIVOehRb"
      },
      "execution_count": null,
      "outputs": []
    },
    {
      "cell_type": "markdown",
      "source": [
        "## 7. Compare the computed homography matrix for each transformation with the original transformation matrix H."
      ],
      "metadata": {
        "id": "faLy9geMeh3R"
      }
    },
    {
      "cell_type": "code",
      "source": [],
      "metadata": {
        "id": "ra520hTxemAm"
      },
      "execution_count": null,
      "outputs": []
    }
  ]
}